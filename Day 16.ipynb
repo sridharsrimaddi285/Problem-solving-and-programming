{
 "cells": [
  {
   "cell_type": "markdown",
   "metadata": {},
   "source": [
    "## PROBLEM 1\n",
    "\n",
    "## PROBLEM STATEMENT:\n",
    ". Define a function to print the sequence of spiral pattern elements for a given N x N matrix\n"
   ]
  },
  {
   "cell_type": "code",
   "execution_count": 48,
   "metadata": {},
   "outputs": [
    {
     "name": "stdout",
     "output_type": "stream",
     "text": [
      "3\n",
      "6\n",
      "9\n",
      "None\n"
     ]
    }
   ],
   "source": [
    "def rowprint(a,r,c):\n",
    "    for i in range(0,c):\n",
    "        print(a[r][i])\n",
    "        \n",
    "def colprint(a,c,r):\n",
    "    for i in range(0,r):\n",
    "        print(a[i][c])\n",
    "        \n",
    "def reverserowprint(a,r,c):\n",
    "    for i in range(c-1,-1,-1):\n",
    "        print(a[r][i])\n",
    "        \n",
    "def reversecolprint(a,c,r):\n",
    "    for i in range(r-1,-1,-1):\n",
    "        print(a[i][c])\n",
    "m1=[[1,2,3],[4,5,6],[7,8,9]]      \n",
    "print(colprint(m1,2,3))"
   ]
  },
  {
   "cell_type": "code",
   "execution_count": null,
   "metadata": {},
   "outputs": [],
   "source": []
  },
  {
   "cell_type": "code",
   "execution_count": null,
   "metadata": {},
   "outputs": [],
   "source": []
  }
 ],
 "metadata": {
  "kernelspec": {
   "display_name": "Python 3",
   "language": "python",
   "name": "python3"
  },
  "language_info": {
   "codemirror_mode": {
    "name": "ipython",
    "version": 3
   },
   "file_extension": ".py",
   "mimetype": "text/x-python",
   "name": "python",
   "nbconvert_exporter": "python",
   "pygments_lexer": "ipython3",
   "version": "3.7.3"
  }
 },
 "nbformat": 4,
 "nbformat_minor": 2
}
