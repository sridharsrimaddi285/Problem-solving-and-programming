{
 "cells": [
  {
   "cell_type": "markdown",
   "metadata": {},
   "source": [
    "\n",
    "# PROBLEM SOLVING AND PROGRAMMING\n",
    "\n",
    "## day no :\n",
    "\n",
    "## date :\n",
    "\n",
    "### Day Outcomes\n",
    "1. Outcome1 \n",
    "2. Outcome2\n",
    "3. outcome3\n",
    "\n",
    "## Problem 1\n",
    "\n",
    "### Problem Statement:\n",
    "Define a function to identity the number of times a substring is repeating in a given string\n",
    "\n",
    "#### Constraints\n",
    "\n",
    "### Test cases\n",
    "substringCount('str', 'substr') -> 1                         \n",
    "substringCount('1234567891122334455', '3') -> 3                       \n",
    "substringCount('abccddccc', 'cc') -> 3                               \n",
    "substringCount('aaaaaaa', 'aaa' ) -> 5                     "
   ]
  },
  {
   "cell_type": "code",
   "execution_count": 40,
   "metadata": {},
   "outputs": [
    {
     "name": "stdout",
     "output_type": "stream",
     "text": [
      "1\n"
     ]
    }
   ],
   "source": [
    "def substring(str1,str2):\n",
    "    count=0\n",
    "    for i in range(0,len(str2)):\n",
    "        for j in range (len(str1),len(str2)):\n",
    "            if (str2[i:j+1]==str1):\n",
    "                count=count+1\n",
    "            \n",
    "    return count\n",
    "print(substring('str', 'substr'))            \n"
   ]
  },
  {
   "cell_type": "markdown",
   "metadata": {},
   "source": [
    "## Problem 2\n",
    "\n",
    "### Problem Statement:\n",
    ". Define a function to merge the characters of two strings alternatively. The remaining characters\n",
    "of the longer string are printed in the same order at the end.\n",
    "\n",
    "\n",
    "#### Constraints\n",
    "\n",
    "### Test cases\n",
    "mergeString('abcd', 'abcd') -> 'aabbccdd'             \n",
    "mergeString('abc', '123456') -> 'a1b2c3456'                 \n",
    "mergeString('0', '123456') -> '0123456'                       \n"
   ]
  },
  {
   "cell_type": "code",
   "execution_count": 41,
   "metadata": {},
   "outputs": [
    {
     "name": "stdout",
     "output_type": "stream",
     "text": [
      "0123456\n"
     ]
    }
   ],
   "source": [
    "def mergeString(str1,str2):\n",
    "    i=0\n",
    "    str3=\"\"\n",
    "    for j in range(0,len(str2)):\n",
    "        if (i<len(str1)):\n",
    "            str4=str3+str1[i]+str2[j]\n",
    "            str3=str4\n",
    "            i=i+1\n",
    "        else:\n",
    "            str4=str3+str2[j]\n",
    "            str3=str4\n",
    "    print(str4)\n",
    "mergeString('0', '123456')"
   ]
  },
  {
   "cell_type": "markdown",
   "metadata": {},
   "source": [
    "## Problem 3\n",
    "\n",
    "## Problem Statement:\n",
    "\n",
    " Define a function to convert a binary number to the corresponding decimal number\n",
    "\n",
    "### Test cases\n",
    "binaryToDecimal(1100) -> 12   \n",
    "binaryToDecimal(1010) -> 10   \n",
    "binaryToDecimal(111000) -> 56   "
   ]
  },
  {
   "cell_type": "code",
   "execution_count": 42,
   "metadata": {},
   "outputs": [
    {
     "name": "stdout",
     "output_type": "stream",
     "text": [
      "12\n"
     ]
    }
   ],
   "source": [
    "def binaryToDecimal(n):\n",
    "    sum=0\n",
    "    for i in range(0,len(str(n))):\n",
    "        r=n%10\n",
    "        n=int(n/10)\n",
    "        sum= sum + (r*(2**i))\n",
    "    return sum             \n",
    "print(binaryToDecimal(1100))                "
   ]
  },
  {
   "cell_type": "markdown",
   "metadata": {},
   "source": [
    "## Problem 4\n",
    "\n",
    "## Problem Statement:\n",
    "\n",
    "Define a function to convert a decimal number to the corresponding binary number\n",
    "\n",
    "### Test cases\n",
    "decimalToBinary(15) -> 1111       \n",
    "decimalToBinary(1) -> 1    "
   ]
  },
  {
   "cell_type": "code",
   "execution_count": 70,
   "metadata": {
    "scrolled": true
   },
   "outputs": [
    {
     "name": "stdout",
     "output_type": "stream",
     "text": [
      "1110None\n"
     ]
    }
   ],
   "source": [
    "def dob(n):\n",
    "    while(n>0):\n",
    "        n=n//2\n",
    "        print(n%2, end='')   \n",
    "print(dob(15))        "
   ]
  },
  {
   "cell_type": "markdown",
   "metadata": {},
   "source": [
    "## Problem 5\n",
    "\n",
    "## Problem Statement:\n",
    " Define a function to check if a given year is a leap year. Returns a boolean value\n",
    "\n",
    "### Test cases\n",
    "2000 -> True    \n",
    "1900 -> False  \n",
    "2012 -> True            \n",
    "2020 -> True             \n",
    "0200 -> False           \n"
   ]
  },
  {
   "cell_type": "code",
   "execution_count": 10,
   "metadata": {},
   "outputs": [
    {
     "name": "stdout",
     "output_type": "stream",
     "text": [
      "True\n"
     ]
    }
   ],
   "source": [
    "def leap(n):\n",
    "    if((n%4==0) or (n%100==0 and n%400==0)):\n",
    "        return True\n",
    "    else:\n",
    "        return False\n",
    "print(leap(2000))   "
   ]
  },
  {
   "cell_type": "code",
   "execution_count": null,
   "metadata": {},
   "outputs": [],
   "source": []
  },
  {
   "cell_type": "code",
   "execution_count": null,
   "metadata": {},
   "outputs": [],
   "source": []
  }
 ],
 "metadata": {
  "kernelspec": {
   "display_name": "Python 3",
   "language": "python",
   "name": "python3"
  },
  "language_info": {
   "codemirror_mode": {
    "name": "ipython",
    "version": 3
   },
   "file_extension": ".py",
   "mimetype": "text/x-python",
   "name": "python",
   "nbconvert_exporter": "python",
   "pygments_lexer": "ipython3",
   "version": "3.7.3"
  }
 },
 "nbformat": 4,
 "nbformat_minor": 2
}
