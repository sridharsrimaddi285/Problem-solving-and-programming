{
 "cells": [
  {
   "cell_type": "markdown",
   "metadata": {},
   "source": [
    " # problem\n",
    " \n",
    " ## problem statement\n",
    " For a given integer N, find the total number of  Non - Prime Factors in the range (1, N) (both exclusive) that do not contain the digit 0\n",
    "\n",
    "### test cases\n",
    "\n",
    "nonPrimeFactorsCount( 100 ) -> 2\n",
    "nonPrimeFactorsCount( 50 )  ->  "
   ]
  },
  {
   "cell_type": "code",
   "execution_count": 41,
   "metadata": {},
   "outputs": [
    {
     "name": "stdout",
     "output_type": "stream",
     "text": [
      "2None\n",
      "1None\n"
     ]
    }
   ],
   "source": [
    "def factorscount(x):\n",
    "    count=0\n",
    "    for i in range(1,x+1):\n",
    "        if(x%i==0):\n",
    "            if((i%10!=0)):\n",
    "                for j in range(2,i):\n",
    "                    if(i%j==0):\n",
    "                        count+=1\n",
    "    print(count,end='')\n",
    "print(factorscount(100))\n",
    "print(factorscount(50))\n"
   ]
  },
  {
   "cell_type": "markdown",
   "metadata": {},
   "source": [
    "# problem\n",
    "\n",
    "## problem statement\n",
    "\n",
    "\n",
    "\n",
    "For a given integer N. Find the least positive integer X made up of only 9's and 0's, such that, X is a multiple of N.\n",
    "\n",
    "X is made up of one or more occurrences of 9 and zero or more occurrences of 0.\n",
    "\n",
    "### test cases\n",
    "Multiple( 5 )  -> 90\n",
    "Multiple ( 7 )  -> 9009\n",
    "Multiple( 1 )  -> 9"
   ]
  },
  {
   "cell_type": "code",
   "execution_count": 40,
   "metadata": {},
   "outputs": [
    {
     "name": "stdout",
     "output_type": "stream",
     "text": [
      "90\n",
      "9009\n",
      "9\n"
     ]
    }
   ],
   "source": [
    "def generateNumbers():\n",
    "    q=Queue()\n",
    "    q.put(\"9\")\n",
    "    for count in range(MAX_COUNT,-1,-1):\n",
    "        s1=q.queue[0]\n",
    "        q.get()\n",
    "        vec.append(s1)\n",
    "        s2=s1\n",
    "        s1+=\"0\"\n",
    "        q.put(s1)\n",
    "        s2+=\"9\" \n",
    "        q.put(s2)\n",
    "def Smallestmultiple(n): \n",
    "    for i in range(len(vec)):\n",
    "        if(int(vec[i])%n==0):\n",
    "            return vec[i]\n",
    "    print(multiple(n))\n",
    "MAX_COUNT=10000\n",
    "vec=[]\n",
    "generateNumbersutil()\n",
    "print(Smallestmultiple(5))\n",
    "print(Smallestmultiple(7))\n",
    "print(Smallestmultiple(1))"
   ]
  },
  {
   "cell_type": "code",
   "execution_count": null,
   "metadata": {},
   "outputs": [],
   "source": []
  }
 ],
 "metadata": {
  "kernelspec": {
   "display_name": "Python 3",
   "language": "python",
   "name": "python3"
  },
  "language_info": {
   "codemirror_mode": {
    "name": "ipython",
    "version": 3
   },
   "file_extension": ".py",
   "mimetype": "text/x-python",
   "name": "python",
   "nbconvert_exporter": "python",
   "pygments_lexer": "ipython3",
   "version": "3.7.3"
  }
 },
 "nbformat": 4,
 "nbformat_minor": 2
}
