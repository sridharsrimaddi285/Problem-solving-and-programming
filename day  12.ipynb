{
 "cells": [
  {
   "cell_type": "markdown",
   "metadata": {},
   "source": [
    "\n",
    "# PROBLEM SOLVING AND PROGRAMMING\n",
    "\n",
    "## day no :12\n",
    "\n",
    "## date :10-05-19\n",
    "\n",
    "### day Outcomes\n",
    "1. Outcome1:\n",
    "2. Outcome2:\n",
    "3. Outcome3:"
   ]
  },
  {
   "cell_type": "markdown",
   "metadata": {},
   "source": [
    "# PROBLEM 1\n",
    "\n",
    "## PROBLEM STATEMENT:\n",
    "\n",
    "Factorial of a given number as a procedure\n",
    "\n",
    "### TEST CASES\n",
    "    Factorial(5) -> 120\n",
    "\n",
    "    Factorial (6) -> 720\n",
    "    \n",
    "#### EXPLANATION    \n"
   ]
  },
  {
   "cell_type": "code",
   "execution_count": 1,
   "metadata": {},
   "outputs": [
    {
     "name": "stdout",
     "output_type": "stream",
     "text": [
      "120\n",
      "720\n"
     ]
    }
   ],
   "source": [
    "def factorial(n1):\n",
    "    fact=1\n",
    "    for c in range(1,n1):\n",
    "        fact=fact*(n1)\n",
    "        n1=n1-1\n",
    "    return fact\n",
    "print(factorial(5))\n",
    "print(factorial(6))"
   ]
  },
  {
   "cell_type": "markdown",
   "metadata": {},
   "source": [
    "# PROBLEM 2\n",
    "\n",
    "## PROBLEM STATEMENT:\n",
    "\n",
    "Procedure to generate multiplication tables. \n",
    "\n",
    "### TEST CASES\n",
    " MT(3, 5, 7) -> 3 X 5 = 15\n",
    "\n",
    "                3 X 6 = 18\n",
    "\n",
    "                3 X 7 = 21"
   ]
  },
  {
   "cell_type": "code",
   "execution_count": 6,
   "metadata": {},
   "outputs": [
    {
     "name": "stdout",
     "output_type": "stream",
     "text": [
      "3 X 5 = 15\n",
      "3 X 6 = 18\n",
      "3 X 7 = 21\n",
      "None\n",
      "4 X 5 = 20\n",
      "4 X 6 = 24\n",
      "4 X 7 = 28\n",
      "None\n",
      "5 X 5 = 25\n",
      "5 X 6 = 30\n",
      "5 X 7 = 35\n",
      "None\n"
     ]
    }
   ],
   "source": [
    "def mult(n1):\n",
    "    for c in range(5,8):\n",
    "        print(n1,'X',c,'=',n1*c)\n",
    "print(mult(3))\n",
    "print(mult(4))\n",
    "print(mult(5))"
   ]
  },
  {
   "cell_type": "markdown",
   "metadata": {},
   "source": [
    "# PROBLEM 3\n",
    "\n",
    "## PROBLEM STATEMENT:\n",
    "\n",
    "To find power of a number using recursion\n",
    "\n",
    "#### EXPLANATION"
   ]
  },
  {
   "cell_type": "code",
   "execution_count": 8,
   "metadata": {},
   "outputs": [
    {
     "data": {
      "text/plain": [
       "8"
      ]
     },
     "execution_count": 8,
     "metadata": {},
     "output_type": "execute_result"
    }
   ],
   "source": [
    "def recursivepower(n,r):\n",
    "    if r == 1:\n",
    "        return n\n",
    "    else:\n",
    "        return recursivepower(n,r-1)*n\n",
    "    \n",
    "recursivepower(2,3)    "
   ]
  },
  {
   "cell_type": "markdown",
   "metadata": {},
   "source": [
    "# PROBLEM 4\n",
    "\n",
    "## PROBLEM STATEMENT:\n",
    "\n",
    "GCD of two numbers using recursion\n",
    "\n",
    "####  EXPLANATION"
   ]
  },
  {
   "cell_type": "code",
   "execution_count": 1,
   "metadata": {},
   "outputs": [
    {
     "data": {
      "text/plain": [
       "4"
      ]
     },
     "execution_count": 1,
     "metadata": {},
     "output_type": "execute_result"
    }
   ],
   "source": [
    "def gcdrecursive(a,b):\n",
    "    if b % a == 0:\n",
    "        return a\n",
    "    else:\n",
    "        return gcdrecursive(b % a,a)\n",
    "        \n",
    "gcdrecursive(12,40)        "
   ]
  },
  {
   "cell_type": "markdown",
   "metadata": {},
   "source": [
    "# PROBLEM 5\n",
    "\n",
    "## PROBLEM STATEMENT:\n",
    "\n",
    "GCD oftwo numbers\n",
    "\n",
    "####  EXPLANATION"
   ]
  },
  {
   "cell_type": "code",
   "execution_count": 17,
   "metadata": {},
   "outputs": [
    {
     "data": {
      "text/plain": [
       "3"
      ]
     },
     "execution_count": 17,
     "metadata": {},
     "output_type": "execute_result"
    }
   ],
   "source": [
    "def gcd(a,b):\n",
    "    r = b % a\n",
    "    if (r== 0):\n",
    "        return a\n",
    "    while r != 0:\n",
    "        r = b % a\n",
    "        b=a\n",
    "        a=r\n",
    "        \n",
    "    return b\n",
    "\n",
    "gcd(12,39)"
   ]
  },
  {
   "cell_type": "code",
   "execution_count": null,
   "metadata": {},
   "outputs": [],
   "source": []
  }
 ],
 "metadata": {
  "kernelspec": {
   "display_name": "Python 3",
   "language": "python",
   "name": "python3"
  },
  "language_info": {
   "codemirror_mode": {
    "name": "ipython",
    "version": 3
   },
   "file_extension": ".py",
   "mimetype": "text/x-python",
   "name": "python",
   "nbconvert_exporter": "python",
   "pygments_lexer": "ipython3",
   "version": "3.7.3"
  }
 },
 "nbformat": 4,
 "nbformat_minor": 2
}
