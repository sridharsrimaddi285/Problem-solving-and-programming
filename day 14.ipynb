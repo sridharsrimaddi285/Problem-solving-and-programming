{
 "cells": [
  {
   "cell_type": "markdown",
   "metadata": {},
   "source": [
    "# PROBLEM SOLVING AND PROGRAMMING\n",
    "\n",
    "## day no :14\n",
    "\n",
    "## date :12-05-19\n",
    "\n",
    "### Day Outcomes\n",
    "Outcome1      \n",
    "Outcome2              \n",
    "outcome3           \n",
    "         "
   ]
  },
  {
   "cell_type": "code",
   "execution_count": null,
   "metadata": {},
   "outputs": [],
   "source": []
  },
  {
   "cell_type": "markdown",
   "metadata": {},
   "source": [
    "## Problem 1\n",
    "\n",
    "## Problem Statement:\n",
    " Define a function to find the average of all the outer elements of an N x M matrix.\n",
    "\n",
    "\n",
    " ### TEST CASES\n",
    " averageOuterMatrix([[1, 2, 3], [4, 5, 6], [7, 8, 9], [10, 11, 12]] -> 4.5"
   ]
  },
  {
   "cell_type": "code",
   "execution_count": 10,
   "metadata": {},
   "outputs": [
    {
     "name": "stdout",
     "output_type": "stream",
     "text": [
      "5.75\n"
     ]
    }
   ],
   "source": [
    "def avg(n):\n",
    "    n=len(a[0])\n",
    "    m=len(a)\n",
    "    sum=0\n",
    "    x=0\n",
    "    for i in range(0,n):\n",
    "        sum=sum+a[i][0]+a[m-1][i]\n",
    "        x=x+2\n",
    "    for i in range(1,m-1):\n",
    "        sum=sum+a[i][0]+a[i][n-1]\n",
    "        x=x+2\n",
    "        print(sum/x)\n",
    "a=[[1,2,3],[4,5,6],[7,8,9]]\n",
    "avg(a)\n",
    "            \n",
    "    \n",
    "    \n",
    "    "
   ]
  },
  {
   "cell_type": "code",
   "execution_count": null,
   "metadata": {},
   "outputs": [],
   "source": []
  }
 ],
 "metadata": {
  "kernelspec": {
   "display_name": "Python 3",
   "language": "python",
   "name": "python3"
  },
  "language_info": {
   "codemirror_mode": {
    "name": "ipython",
    "version": 3
   },
   "file_extension": ".py",
   "mimetype": "text/x-python",
   "name": "python",
   "nbconvert_exporter": "python",
   "pygments_lexer": "ipython3",
   "version": "3.7.3"
  }
 },
 "nbformat": 4,
 "nbformat_minor": 2
}
