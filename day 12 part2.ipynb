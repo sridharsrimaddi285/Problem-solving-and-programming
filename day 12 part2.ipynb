{
 "cells": [
  {
   "cell_type": "markdown",
   "metadata": {},
   "source": [
    "# Problem solving and programming\n",
    "## Day no - 12\n",
    "## Date- 10/05/2019"
   ]
  },
  {
   "cell_type": "markdown",
   "metadata": {},
   "source": [
    "### problem 1:\n",
    "#### problem statement\n",
    "\n",
    "#### constraints\n",
    "####  Test cases"
   ]
  },
  {
   "cell_type": "code",
   "execution_count": 1,
   "metadata": {},
   "outputs": [
    {
     "name": "stdout",
     "output_type": "stream",
     "text": [
      "move 1 disk from A to C\n",
      "move 2 disk from A to B\n",
      "move 1 disk from C to B\n",
      "move 3 disk from A to C\n",
      "move 1 disk from B to A\n",
      "move 2 disk from B to C\n",
      "move 1 disk from A to C\n"
     ]
    }
   ],
   "source": [
    "def towerofhanoi(n,source,temp,dest):\n",
    "    if n ==1:\n",
    "        print('move',n,'disk from',source,'to',dest)\n",
    "        return\n",
    "    else:\n",
    "        towerofhanoi(n-1,source,dest,temp)\n",
    "        print('move',n,'disk from',source,'to',dest)\n",
    "        towerofhanoi(n-1,temp,source,dest)\n",
    "        return\n",
    "towerofhanoi(3,'A','B','C')    "
   ]
  },
  {
   "cell_type": "markdown",
   "metadata": {},
   "source": [
    "### problem 2:\n",
    "#### problem statement\n",
    "Generating the nth Fibonacci number\n",
    "\n",
    "#### constraints\n",
    "####  Test cases"
   ]
  },
  {
   "cell_type": "code",
   "execution_count": null,
   "metadata": {},
   "outputs": [],
   "source": [
    "def recursivefibonaci(n):\n",
    "    if n==0:\n",
    "        return 0\n",
    "    elif n==1:\n",
    "        return 1\n",
    "    elif n<0:\n",
    "        print('not valid')\n",
    "    elif n==2:\n",
    "        return 1\n",
    "    else:\n",
    "        return recursivefibonaci(n-1)+recursivefibonaci(n-2)\n",
    "recursivefibonaci(3)        "
   ]
  }
 ],
 "metadata": {
  "kernelspec": {
   "display_name": "Python 3",
   "language": "python",
   "name": "python3"
  },
  "language_info": {
   "codemirror_mode": {
    "name": "ipython",
    "version": 3
   },
   "file_extension": ".py",
   "mimetype": "text/x-python",
   "name": "python",
   "nbconvert_exporter": "python",
   "pygments_lexer": "ipython3",
   "version": "3.7.3"
  }
 },
 "nbformat": 4,
 "nbformat_minor": 2
}
