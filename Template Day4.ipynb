{
 "cells": [
  {
   "cell_type": "markdown",
   "metadata": {},
   "source": [
    "# PROBLEM SOLVING AND PROGRAMMING\n",
    "\n",
    "## day no :11\n",
    "\n",
    "## date :09-05-19"
   ]
  },
  {
   "cell_type": "markdown",
   "metadata": {},
   "source": [
    "# Day Objectives\n",
    "1.* Objective1  \n",
    "2.* Objective2  \n",
    "3.* Objective3  "
   ]
  },
  {
   "cell_type": "markdown",
   "metadata": {},
   "source": [
    "# Problem 1\n",
    "## Problem Statement:\n",
    "Given 2 int values, return True if one is negative and one is positive. Except if the parameter \"negative\" is True, then return True only if both are negative.\n",
    "## Constraints\n",
    "\n",
    "### Test cases\n",
    "pos_neg(1, -1, False) → True   \n",
    "pos_neg(-1, 1, False) → True   \n",
    "pos_neg(-4, -5, True) → True   \n",
    "pos_neg(-1,1,True)_> False     \n",
    "pos_neg(1,6,True)_> False   \n",
    "pos_neg(-1,-9,False)_> False    \n"
   ]
  },
  {
   "cell_type": "code",
   "execution_count": 4,
   "metadata": {},
   "outputs": [
    {
     "name": "stdout",
     "output_type": "stream",
     "text": [
      "True\n",
      "True\n",
      "True\n",
      "False\n",
      "False\n",
      "False\n"
     ]
    }
   ],
   "source": [
    "def pos_neg(n1,n2,b):\n",
    "    if (n1<0 and n2>0 and b== False) or (n1>0 and n2<0 and b== False) or (n1<0 and n2<0 and b== True):\n",
    "        return True\n",
    "    else:\n",
    "        return False\n",
    "print(pos_neg(1,-1,False))\n",
    "print(pos_neg(-1,1,False))\n",
    "print(pos_neg(-4,-5,True))\n",
    "print(pos_neg(-1,1,True))\n",
    "print(pos_neg(1,6,True))\n",
    "print(pos_neg(-1,-9,False))\n"
   ]
  },
  {
   "cell_type": "markdown",
   "metadata": {},
   "source": [
    "# Problem 2\n",
    "\n",
    "## Problem Statement:\n",
    "Given 2 ints, a and b, return True if one if them is 10 or if their sum is 10.\n",
    "### Constraints\n",
    "\n",
    "##### Test cases\n",
    "makes10(9, 10) → True \n",
    "makes10(9, 9) → False  \n",
    "makes10(1, 9) → True   \n",
    "\n",
    "### explanation\n"
   ]
  },
  {
   "cell_type": "code",
   "execution_count": 10,
   "metadata": {},
   "outputs": [
    {
     "name": "stdout",
     "output_type": "stream",
     "text": [
      "True\n",
      "False\n",
      "True\n"
     ]
    }
   ],
   "source": [
    "def makes10(n1,n2):\n",
    "    if(n1+n2==10 or n1==10 or n2==10):\n",
    "        return True\n",
    "    else:\n",
    "        return False\n",
    "print(makes10(9,10))\n",
    "print(makes10(9,9))\n",
    "print(makes10(1,9))"
   ]
  },
  {
   "cell_type": "markdown",
   "metadata": {},
   "source": [
    "# Problem 3\n",
    "\n",
    "## Problem Statement:\n",
    "Given an int n, return True if it is within 10 of 100 or 200. Note: abs(num) computes the absolute value of a number\n",
    "\n",
    "### Constraints\n",
    "\n",
    "### Test cases\n",
    "near_hundred(93) → True \n",
    "near_hundred(90) → True \n",
    "near_hundred(89) → False \n",
    "\n",
    "####  Explanation"
   ]
  },
  {
   "cell_type": "code",
   "execution_count": 23,
   "metadata": {},
   "outputs": [
    {
     "name": "stdout",
     "output_type": "stream",
     "text": [
      "True\n",
      "True\n"
     ]
    }
   ],
   "source": [
    "def near_hundred(n1):\n",
    "    if (n1>89 and n1<101 or n1>189 and n1<201):\n",
    "        return True\n",
    "    else:\n",
    "        return False\n",
    "print(near_hundred(93))\n",
    "print(near_hundred(191))"
   ]
  },
  {
   "cell_type": "markdown",
   "metadata": {},
   "source": [
    "# Problem 4\n",
    "\n",
    "## Problem Statement:\n",
    "    Design a procedure to perform Linear search on list of N unsorted numbers. It take an array and the key element to be searched and returns the index of the element of key element if found. Else returns -1\n",
    "    \n",
    "### Constrains  \n",
    "\n",
    "### Test cases\n",
    "* LinearSearch( a[5,4,3,2,1], 4) -> 2                  \n",
    "* LinearSearch( a[90, 123, 324, 21, 56], 22) -> -1     \n",
    "* LinearSearch( a[321,543,567,789],567) -> 2         "
   ]
  },
  {
   "cell_type": "code",
   "execution_count": 20,
   "metadata": {},
   "outputs": [
    {
     "name": "stdout",
     "output_type": "stream",
     "text": [
      "-1\n",
      "2\n"
     ]
    }
   ],
   "source": [
    "def LinearSearch(a,key):\n",
    "    for i in range(0,len(a)):\n",
    "        if(a[i] == key):\n",
    "            return i\n",
    "    return-1 \n",
    "print(LinearSearch([15,12,9,6,3,-3],0))\n",
    "print(LinearSearch([132,543,567,789],567))"
   ]
  },
  {
   "cell_type": "markdown",
   "metadata": {},
   "source": [
    "# Problem 5\n",
    "\n",
    "## Problem Statement:\n",
    "Procedure to check if a given number is Prime and returns a Boolean value.\n",
    "\n",
    "### Constrains\n",
    "\n",
    "### Test cases\n",
    "     IsPrime(7) -> True\n",
    "     IsPrime(9) ->  False\n"
   ]
  },
  {
   "cell_type": "code",
   "execution_count": 24,
   "metadata": {},
   "outputs": [
    {
     "name": "stdout",
     "output_type": "stream",
     "text": [
      "True\n",
      "True\n"
     ]
    }
   ],
   "source": [
    "def Isprime(n1):\n",
    "    if (n1):\n",
    "        return True\n",
    "    else:\n",
    "        return False\n",
    "print(Isprime(7))\n",
    "print(Isprime(9))\n",
    "    "
   ]
  },
  {
   "cell_type": "markdown",
   "metadata": {},
   "source": [
    "# Problem 6\n",
    "\n",
    "## Problem Statement:\n",
    "Design a procedure to determine if a given string is a Palindrome\n",
    "### Constrains\n",
    "\n",
    "### Test cases\n",
    "Palindrome(\"racecar\") -> True\n",
    "Palindrome(\"raptor\") -> False"
   ]
  },
  {
   "cell_type": "code",
   "execution_count": 28,
   "metadata": {},
   "outputs": [
    {
     "name": "stdout",
     "output_type": "stream",
     "text": [
      "True\n",
      "False\n"
     ]
    }
   ],
   "source": [
    "def palindrome(str1):\n",
    "    for i in range(0,len(str1)-1):\n",
    "        rev=(str1==(str1[::-1]))\n",
    "    return rev\n",
    "print(palindrome(\"malayalam\"))\n",
    "print(palindrome(\"raptor\"))"
   ]
  },
  {
   "cell_type": "markdown",
   "metadata": {},
   "source": [
    "# Problem 7\n",
    "\n",
    "## Problem Statement:\n",
    "\n",
    "Design a procedure to sort a given array in ascending order\n",
    "\n",
    "### Constrains\n",
    "\n",
    "### Test cases\n",
    "sort([3, 2, 1, 4, 4, 5, 6]) -> [1, 2, 3, 4, 4, 5, 6]\n",
    "sort([1, 2, 3]) -> [1, 2, 3]"
   ]
  },
  {
   "cell_type": "code",
   "execution_count": 35,
   "metadata": {},
   "outputs": [
    {
     "data": {
      "text/plain": [
       "[1, 2, 3, 4, 4, 5, 6]"
      ]
     },
     "execution_count": 35,
     "metadata": {},
     "output_type": "execute_result"
    }
   ],
   "source": [
    "a=([3,2,1,4,4,5,6])\n",
    "a.sort()\n",
    "a"
   ]
  },
  {
   "cell_type": "markdown",
   "metadata": {},
   "source": [
    "# Problem 8\n",
    "\n",
    "## Problem Statement:\n",
    "\n",
    "Design a procedure to calculate the squareroot of a number \"without using the math function sqrt\".\n",
    "\n",
    "### Constrains\n",
    "\n",
    "### Test cases\n",
    "Squareroot(36) -> 6\n",
    "Squareroot(81) ->9"
   ]
  },
  {
   "cell_type": "code",
   "execution_count": 34,
   "metadata": {},
   "outputs": [
    {
     "name": "stdout",
     "output_type": "stream",
     "text": [
      "6.0\n",
      "9.0\n"
     ]
    }
   ],
   "source": [
    "def Squareroot(n1):\n",
    "    n1=n1**(0.5)\n",
    "    return n1\n",
    "print(Squareroot(36))\n",
    "print(Squareroot(81))"
   ]
  },
  {
   "cell_type": "code",
   "execution_count": null,
   "metadata": {},
   "outputs": [],
   "source": []
  }
 ],
 "metadata": {
  "kernelspec": {
   "display_name": "Python 3",
   "language": "python",
   "name": "python3"
  },
  "language_info": {
   "codemirror_mode": {
    "name": "ipython",
    "version": 3
   },
   "file_extension": ".py",
   "mimetype": "text/x-python",
   "name": "python",
   "nbconvert_exporter": "python",
   "pygments_lexer": "ipython3",
   "version": "3.7.3"
  }
 },
 "nbformat": 4,
 "nbformat_minor": 2
}
